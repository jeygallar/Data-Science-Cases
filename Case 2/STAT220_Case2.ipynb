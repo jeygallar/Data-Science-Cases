{
  "nbformat": 4,
  "nbformat_minor": 0,
  "metadata": {
    "colab": {
      "provenance": []
    },
    "kernelspec": {
      "name": "python3",
      "display_name": "Python 3"
    },
    "language_info": {
      "name": "python"
    }
  },
  "cells": [
    {
      "cell_type": "code",
      "execution_count": null,
      "metadata": {
        "colab": {
          "base_uri": "https://localhost:8080/"
        },
        "id": "FgEZTPjwZjEG",
        "outputId": "adedd356-6e6a-4003-b456-9c9f074e099d"
      },
      "outputs": [
        {
          "output_type": "stream",
          "name": "stdout",
          "text": [
            "Expected number of rolls to get a score of 17 or higher on a 20-sided die: 5.00\n",
            "Probability of getting a score of 17 or higher when rolling the 20-sided die 4 times: 0.5904 or 59.04%\n"
          ]
        }
      ],
      "source": [
        "# Global inputs:\n",
        "# m: The number of dice rolls or the number of dice being rolled (relevant only in Scenario B).\n",
        "# n: The number of sides on each die.\n",
        "# x: The target value. A (calculates the expected number of rolls to achieve a score of 'x' or higher). B (computes the probability of achieving a value of 'x' or higher when rolling 'm' dice ).\n",
        "\n",
        "# Dice Statistics:\n",
        "# P: The probability of rolling a value 'x' or higher on a single roll of an 'n' sided dice.\n",
        "# PNot: The probability P' of NOT rolling a value 'x' or higher.\n",
        "# PNotHigher: The probability of NOT rolling 'x' or higher on any of the 'm' dice.\n",
        "\n",
        "def computeDiceStatistics(m, n, x, scenario):\n",
        "\n",
        "    # Input validation\n",
        "    if scenario not in ['A', 'B']:\n",
        "        raise ValueError(\"Scenario should be either 'A' or 'B'\")\n",
        "\n",
        "    #Scenario A Calculating the expected number of roll attempts with a n-sided die until a face showing a value of x or higher is observed.\n",
        "    if scenario == 'A':\n",
        "        P = (n - x + 1) / n\n",
        "        return 1 / P\n",
        "\n",
        "    #Scenario B Determining the probability of rolling m dice, each with n sides, and having at least one die show a value greater than or equal to x.\n",
        "    else:\n",
        "        PNot = 1 - (n - x + 1) / n\n",
        "        PNotHigher = PNot**m\n",
        "        return 1 - PNotHigher\n",
        "\n",
        "# Input desired data\n",
        "n = 20\n",
        "x = 17\n",
        "\n",
        "# Calculate the expected number of rolls to achieve a score of 'n' or higher\n",
        "expectedRolls = computeDiceStatistics(None, n, x, 'A')\n",
        "print(f\"Expected number of rolls to get a score of {x} or higher on a {n}-sided die: {expectedRolls:.2f}\")\n",
        "\n",
        "#....for rolling the die 4 times\n",
        "m = 4\n",
        "probabilitySuccess = computeDiceStatistics(m, n, x, 'B')\n",
        "print(f\"Probability of getting a score of {x} or higher when rolling the {n}-sided die {m} times: {probabilitySuccess:.4f} or {probabilitySuccess*100:.2f}%\")\n",
        "\n"
      ]
    }
  ]
}